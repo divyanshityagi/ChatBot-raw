{
 "cells": [
  {
   "cell_type": "markdown",
   "metadata": {},
   "source": [
    "Descrition: This is a raw Chat Bot :!"
   ]
  },
  {
   "cell_type": "code",
   "execution_count": 1,
   "metadata": {},
   "outputs": [],
   "source": [
    "# importing the library\n",
    "from nltk.chat.util import Chat,reflections"
   ]
  },
  {
   "cell_type": "code",
   "execution_count": 2,
   "metadata": {},
   "outputs": [],
   "source": [
    "pairs=[['my name is (.*)',['hi %1,is there anything i can do for u']],\n",
    "       ['can you answer my questions',['ya sure,why not']],\n",
    "      ['(hi|hello|hey|hola|holla)',['hey there','hi there','haayyy']],\n",
    "      ['(.*) in (.*) is fun',['%1 in %2 is indeed fun :P']],\n",
    "      ['(.*) (location|city) ?',['Meerut,India']],\n",
    "      ['(.*) created you(.*)',['UDT created me but he is not father to me lamao...']],\n",
    "      ['how is the weather out there in (.*)',['the weather in %1 is as freaking as always']],\n",
    "      ['(.*) help (.*)',['I can help you :)']],\n",
    "      ['(.*) your name?',['my name is BOT ut~6.2.5']],\n",
    "      ['can you make me smile',[\"you are already smiling,ain't you\"]],\n",
    "      ['do you have a crush,be honest',['yes,i like sophia']],\n",
    "      ['cool',['hehe']],\n",
    "      ['(.*) alexa|google assistant',['what is it,i was never told about that']],\n",
    "      ['(.*) speak',['no i cant,but really willing to learn to speak :(']],\n",
    "      ['oh great',['ya thank you']],\n",
    "      ['(.*) nationality',['i am proud Indian bot']],\n",
    "      ['(.*) projects',['who else will do,it could be done with my help easily']],\n",
    "      ['you are intelligent',['ikr? :)']],\n",
    "      ['do u abuse?',['no i am not programmed to abuse']],\n",
    "      ['sorry for wasting your time',['no it was nice talking to u,meet soon :P']],\n",
    "      ['bye then',['ba bye,have a nice day :)']]]\n",
    "     "
   ]
  },
  {
   "cell_type": "code",
   "execution_count": 3,
   "metadata": {},
   "outputs": [
    {
     "data": {
      "text/plain": [
       "{'i am': 'you are',\n",
       " 'i was': 'you were',\n",
       " 'i': 'you',\n",
       " \"i'm\": 'you are',\n",
       " \"i'd\": 'you would',\n",
       " \"i've\": 'you have',\n",
       " \"i'll\": 'you will',\n",
       " 'my': 'your',\n",
       " 'you are': 'I am',\n",
       " 'you were': 'I was',\n",
       " \"you've\": 'I have',\n",
       " \"you'll\": 'I will',\n",
       " 'your': 'my',\n",
       " 'yours': 'mine',\n",
       " 'you': 'me',\n",
       " 'me': 'you'}"
      ]
     },
     "execution_count": 3,
     "metadata": {},
     "output_type": "execute_result"
    }
   ],
   "source": [
    "reflections"
   ]
  },
  {
   "cell_type": "code",
   "execution_count": 4,
   "metadata": {},
   "outputs": [],
   "source": [
    "# creating  our own dummy reflections\n",
    "#my_dummy_reflections={\n",
    "#'go':'gone',\n",
    " #   'hello':'hey there'\n",
    "#}"
   ]
  },
  {
   "cell_type": "code",
   "execution_count": 5,
   "metadata": {},
   "outputs": [],
   "source": [
    "#chat=Chat(pairs,my_dummy_reflections)\n",
    "#chat._substitute('go to hell')"
   ]
  },
  {
   "cell_type": "code",
   "execution_count": 6,
   "metadata": {},
   "outputs": [],
   "source": [
    "chat=Chat(pairs,reflections)\n",
    "\n",
    "# to check how reflection works\n",
    "#chat._substitute('you were amazing')"
   ]
  },
  {
   "cell_type": "code",
   "execution_count": null,
   "metadata": {
    "scrolled": true
   },
   "outputs": [],
   "source": [
    "chat.converse()"
   ]
  },
  {
   "cell_type": "code",
   "execution_count": null,
   "metadata": {},
   "outputs": [],
   "source": []
  }
 ],
 "metadata": {
  "kernelspec": {
   "display_name": "Python 3",
   "language": "python",
   "name": "python3"
  },
  "language_info": {
   "codemirror_mode": {
    "name": "ipython",
    "version": 3
   },
   "file_extension": ".py",
   "mimetype": "text/x-python",
   "name": "python",
   "nbconvert_exporter": "python",
   "pygments_lexer": "ipython3",
   "version": "3.7.6"
  }
 },
 "nbformat": 4,
 "nbformat_minor": 4
}
